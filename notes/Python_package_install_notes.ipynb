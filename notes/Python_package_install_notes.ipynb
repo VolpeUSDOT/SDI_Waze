{
 "cells": [
  {
   "cell_type": "markdown",
   "metadata": {},
   "source": [
    "## Installing packages for Python work\n",
    "\n",
    "Upgrade `pip`, install packages from the command line (not within a notebook). \n",
    "Multiple packages needed for NEXRAD work; run the following commands in the Terminal.\n"
   ]
  },
  {
   "cell_type": "markdown",
   "metadata": {},
   "source": [
    "```\n",
    "pip install --upgrade pip\n",
    "pip install boto cartopy matplotlib netCDF4 numpy pyart pytz siphon\n",
    "```"
   ]
  },
  {
   "cell_type": "markdown",
   "metadata": {},
   "source": [
    "Fails for me (Dan):\n",
    "```\n",
    "...\n",
    "   os.makedirs(path)\n",
    "  File \"/usr/lib/python2.7/os.py\", line 157, in makedirs\n",
    "    mkdir(name, mode)\n",
    "OSError: [Errno 13] Permission denied: '/usr/local/lib/python2.7/dist-packages/numpy-1.14.2.dist-info'\n",
    "```"
   ]
  }
 ],
 "metadata": {
  "kernelspec": {
   "display_name": "Python 3",
   "language": "python",
   "name": "python3"
  },
  "language_info": {
   "codemirror_mode": {
    "name": "ipython",
    "version": 3
   },
   "file_extension": ".py",
   "mimetype": "text/x-python",
   "name": "python",
   "nbconvert_exporter": "python",
   "pygments_lexer": "ipython3",
   "version": "3.5.2"
  }
 },
 "nbformat": 4,
 "nbformat_minor": 2
}
