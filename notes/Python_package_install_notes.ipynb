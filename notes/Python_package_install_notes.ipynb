{
 "cells": [
  {
   "cell_type": "markdown",
   "metadata": {},
   "source": [
    "## Installing packages for Python work\n",
    "\n",
    "Upgrade `pip`, install packages from the command line (not within a notebook). \n",
    "Multiple packages needed for NEXRAD work; run the following commands in the Terminal.\n"
   ]
  },
  {
   "cell_type": "markdown",
   "metadata": {},
   "source": [
    "```\n",
    "pip3 install --upgrade pip\n",
    "pip3 install --upgrade setuptools\n",
    "pip3 install boto cartopy matplotlib netCDF4 numpy pyart pytz siphon\n",
    "```"
   ]
  },
  {
   "cell_type": "markdown",
   "metadata": {},
   "source": [
    "Fails for me (Dan):\n",
    "```\n",
    "...\n",
    "   os.makedirs(path)\n",
    "  File \"/usr/lib/python2.7/os.py\", line 157, in makedirs\n",
    "    mkdir(name, mode)\n",
    "OSError: [Errno 13] Permission denied: '/usr/local/lib/python2.7/dist-packages/numpy-1.14.2.dist-info'\n",
    "```"
   ]
  },
  {
   "cell_type": "code",
   "execution_count": 3,
   "metadata": {},
   "outputs": [
    {
     "name": "stdout",
     "output_type": "stream",
     "text": [
      "['', '/usr/lib/python35.zip', '/usr/lib/python3.5', '/usr/lib/python3.5/plat-x86_64-linux-gnu', '/usr/lib/python3.5/lib-dynload', '/home/tannagram/.local/lib/python3.5/site-packages', '/usr/local/lib/python3.5/dist-packages', '/usr/lib/python3/dist-packages', '/usr/local/lib/python3.5/dist-packages/IPython/extensions', '/home/tannagram/.ipython']\n"
     ]
    }
   ],
   "source": [
    "import sys\n",
    "print(sys.path)"
   ]
  },
  {
   "cell_type": "markdown",
   "metadata": {},
   "source": [
    "pip is using the first version of python it finds in sys.path, which is the system one in /usr/lib. Using --user ensure it uses the local python."
   ]
  },
  {
   "cell_type": "markdown",
   "metadata": {},
   "source": [
    "```\n",
    "pip3 install --user boto cartopy matplotlib netCDF4 numpy pytz siphon\n",
    "```"
   ]
  },
  {
   "cell_type": "markdown",
   "metadata": {},
   "source": [
    "pip3 install --user pyart\n",
    "\n",
    "```\n",
    "still fails with NameError: 'unicode' is not defined, because pyarts setup.py in pip is not updated for python 3, which replaced unicode calls with str(). Installing pyart from source should work\n",
    "```"
   ]
  },
  {
   "cell_type": "markdown",
   "metadata": {},
   "source": [
    "### Installing pyart from source\n",
    "\n",
    "Installing Py-ART from source is the only way to get the latest updates and enhancement to the software that have not yet made it into a release. The latest source code for Py-ART can be obtained from the GitHub repository, https://github.com/ARM-DOE/pyart. Either download and unpack the zip file of the source code or use git to checkout the repository:\n",
    "\n",
    "```\n",
    "git clone https://github.com/ARM-DOE/pyart.git\n",
    "```\n",
    "\n",
    "To install in your home directory, use:\n",
    "```\n",
    "python setup.py install --user\n",
    "```\n",
    "\n",
    "To install for all users on Unix/Linux:\n",
    "\n",
    "```\n",
    "python setup.py build\n",
    "sudo python setup.py install\n",
    "```"
   ]
  },
  {
   "cell_type": "code",
   "execution_count": 2,
   "metadata": {},
   "outputs": [
    {
     "name": "stdout",
     "output_type": "stream",
     "text": [
      "38.5.2\n"
     ]
    }
   ],
   "source": [
    "import setuptools\n",
    "print(setuptools.__version__)"
   ]
  },
  {
   "cell_type": "markdown",
   "metadata": {},
   "source": []
  }
 ],
 "metadata": {
  "kernelspec": {
   "display_name": "Python 3",
   "language": "python",
   "name": "python3"
  },
  "language_info": {
   "codemirror_mode": {
    "name": "ipython",
    "version": 3
   },
   "file_extension": ".py",
   "mimetype": "text/x-python",
   "name": "python",
   "nbconvert_exporter": "python",
   "pygments_lexer": "ipython3",
   "version": "3.5.2"
  }
 },
 "nbformat": 4,
 "nbformat_minor": 2
}
