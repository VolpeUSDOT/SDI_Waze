{
 "cells": [
  {
   "cell_type": "markdown",
   "metadata": {},
   "source": [
    "## Installing packages for Python work\n",
    "\n",
    "Upgrade `pip`, install packages from the command line (not within a notebook). \n",
    "Multiple packages needed for NEXRAD work; run the following commands in the Terminal.\n"
   ]
  },
  {
   "cell_type": "markdown",
   "metadata": {},
   "source": [
    "```\n",
    "pip3 install --upgrade pip\n",
    "pip3 install setuptools\n",
    "pip3 install boto matplotlib numpy pytz # works\n",
    "pip3 install --user cartopy siphon netCDF4  # all of these failed with permission denied errors until adding --user flag\n",
    "```"
   ]
  },
  {
   "cell_type": "markdown",
   "metadata": {},
   "source": [
    "Permission denied errors for me (Dan), example:\n",
    "```\n",
    "\n",
    "File \"/usr/lib/python3.5/os.py\", line 241, in makedirs\n",
    "    mkdir(name, mode)\n",
    "PermissionError: [Errno 13] Permission denied: '/usr/local/lib/python3.5/dist-packages/netCDF4-1.3.1.dist-info'\n",
    "\n",
    "...\n",
    "\n",
    " File \"/usr/lib/python3.5/shutil.py\", line 115, in copyfile\n",
    "    with open(dst, 'wb') as fdst:\n",
    "PermissionError: [Errno 13] Permission denied: '/usr/local/lib/python3.5/dist-packages/shapefile.py'\n",
    "\n",
    "```\n",
    "\n",
    "Fixed with `--user`"
   ]
  },
  {
   "cell_type": "code",
   "execution_count": 1,
   "metadata": {},
   "outputs": [
    {
     "name": "stdout",
     "output_type": "stream",
     "text": [
      "['', '/usr/lib/python35.zip', '/usr/lib/python3.5', '/usr/lib/python3.5/plat-x86_64-linux-gnu', '/usr/lib/python3.5/lib-dynload', '/home/dflynn-volpe/.local/lib/python3.5/site-packages', '/usr/local/lib/python3.5/dist-packages', '/usr/lib/python3/dist-packages', '/usr/local/lib/python3.5/dist-packages/IPython/extensions', '/home/dflynn-volpe/.ipython']\n"
     ]
    }
   ],
   "source": [
    "import sys\n",
    "print(sys.path)"
   ]
  },
  {
   "cell_type": "markdown",
   "metadata": {},
   "source": [
    "pip is using the first version of python it finds in sys.path, which is the system one in /usr/lib. Using --user ensure it uses the local python."
   ]
  },
  {
   "cell_type": "markdown",
   "metadata": {},
   "source": [
    "```\n",
    "pip3 install --user boto cartopy matplotlib netCDF4 numpy pytz siphon\n",
    "```"
   ]
  },
  {
   "cell_type": "markdown",
   "metadata": {},
   "source": [
    "pip3 install --user pyart\n",
    "\n",
    "```\n",
    "still fails with NameError: 'unicode' is not defined, because pyarts setup.py in pip is not updated for python 3, which replaced unicode calls with str(). Installing pyart from source should work\n",
    "```"
   ]
  },
  {
   "cell_type": "markdown",
   "metadata": {},
   "source": [
    "### Installing from source\n",
    "\n",
    "Installing Py-ART from source is the only way to get the latest updates and enhancement to the software that have not yet made it into a release. The latest source code for Py-ART can be obtained from the GitHub repository, https://github.com/ARM-DOE/pyart. Either download and unpack the zip file of the source code or use git to checkout the repository:\n",
    "\n",
    "git clone https://github.com/ARM-DOE/pyart.git\n",
    "\n",
    "To install in your home directory, use:\n",
    "\n",
    "```\n",
    "cd pyart\n",
    "python setup.py install --user\n",
    "```\n",
    "To install for all users on Unix/Linux (only for users with `sudo` privliges):\n",
    "\n",
    "```\n",
    "python setup.py build\n",
    "sudo python setup.py install\n",
    "```"
   ]
  },
  {
   "cell_type": "code",
   "execution_count": 2,
   "metadata": {},
   "outputs": [
    {
     "name": "stdout",
     "output_type": "stream",
     "text": [
      "38.5.2\n"
     ]
    }
   ],
   "source": [
    "import setuptools\n",
    "print(setuptools.__version__)"
   ]
  },
  {
   "cell_type": "markdown",
   "metadata": {},
   "source": [
    "See if pyart is correctly installed now. This works in command line, not in this ipynb:"
   ]
  },
  {
   "cell_type": "code",
   "execution_count": 5,
   "metadata": {},
   "outputs": [
    {
     "ename": "ImportError",
     "evalue": "No module named 'pyart'",
     "output_type": "error",
     "traceback": [
      "\u001b[0;31m---------------------------------------------------------------------------\u001b[0m",
      "\u001b[0;31mImportError\u001b[0m                               Traceback (most recent call last)",
      "\u001b[0;32m<ipython-input-5-413608f118be>\u001b[0m in \u001b[0;36m<module>\u001b[0;34m()\u001b[0m\n\u001b[0;32m----> 1\u001b[0;31m \u001b[0;32mimport\u001b[0m \u001b[0mpyart\u001b[0m\u001b[0;34m\u001b[0m\u001b[0m\n\u001b[0m",
      "\u001b[0;31mImportError\u001b[0m: No module named 'pyart'"
     ]
    }
   ],
   "source": [
    "import pyart"
   ]
  },
  {
   "cell_type": "code",
   "execution_count": null,
   "metadata": {},
   "outputs": [],
   "source": []
  }
 ],
 "metadata": {
  "kernelspec": {
   "display_name": "Python 3",
   "language": "python",
   "name": "python3"
  },
  "language_info": {
   "codemirror_mode": {
    "name": "ipython",
    "version": 3
   },
   "file_extension": ".py",
   "mimetype": "text/x-python",
   "name": "python",
   "nbconvert_exporter": "python",
   "pygments_lexer": "ipython3",
   "version": "3.5.2"
  }
 },
 "nbformat": 4,
 "nbformat_minor": 2
}
